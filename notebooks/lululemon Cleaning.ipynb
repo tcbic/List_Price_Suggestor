{
 "cells": [
  {
   "cell_type": "code",
   "execution_count": 2,
   "metadata": {},
   "outputs": [],
   "source": [
    "import pandas as pd\n",
    "import numpy as np"
   ]
  },
  {
   "cell_type": "code",
   "execution_count": 3,
   "metadata": {},
   "outputs": [],
   "source": [
    "# Load the data.\n",
    "\n",
    "# data = pd.read_csv('train.tsv', sep='\\t')\n",
    "\n",
    "data = pd.read_csv('lululemon athletica sales.csv')"
   ]
  },
  {
   "cell_type": "code",
   "execution_count": 4,
   "metadata": {},
   "outputs": [
    {
     "name": "stdout",
     "output_type": "stream",
     "text": [
      "(198, 8)\n"
     ]
    },
    {
     "data": {
      "text/html": [
       "<div>\n",
       "<style scoped>\n",
       "    .dataframe tbody tr th:only-of-type {\n",
       "        vertical-align: middle;\n",
       "    }\n",
       "\n",
       "    .dataframe tbody tr th {\n",
       "        vertical-align: top;\n",
       "    }\n",
       "\n",
       "    .dataframe thead th {\n",
       "        text-align: right;\n",
       "    }\n",
       "</style>\n",
       "<table border=\"1\" class=\"dataframe\">\n",
       "  <thead>\n",
       "    <tr style=\"text-align: right;\">\n",
       "      <th></th>\n",
       "      <th>Sale Date</th>\n",
       "      <th>Size</th>\n",
       "      <th>Price</th>\n",
       "      <th>Listing Format</th>\n",
       "      <th>Item Condition</th>\n",
       "      <th>Style</th>\n",
       "      <th>Item Specifics</th>\n",
       "      <th>Item Type</th>\n",
       "    </tr>\n",
       "  </thead>\n",
       "  <tbody>\n",
       "    <tr>\n",
       "      <th>0</th>\n",
       "      <td>6/24/2017</td>\n",
       "      <td>XXL</td>\n",
       "      <td>30.70</td>\n",
       "      <td>Fixed</td>\n",
       "      <td>Pre-Owned</td>\n",
       "      <td>Metal Vent Tech Shirt</td>\n",
       "      <td>Long Sleeve</td>\n",
       "      <td>Top</td>\n",
       "    </tr>\n",
       "    <tr>\n",
       "      <th>1</th>\n",
       "      <td>7/5/2017</td>\n",
       "      <td>XL</td>\n",
       "      <td>42.00</td>\n",
       "      <td>Auction</td>\n",
       "      <td>Pre-Owned</td>\n",
       "      <td>Unknown</td>\n",
       "      <td>Short Sleeve</td>\n",
       "      <td>Top</td>\n",
       "    </tr>\n",
       "    <tr>\n",
       "      <th>2</th>\n",
       "      <td>7/17/2017</td>\n",
       "      <td>XXL</td>\n",
       "      <td>20.50</td>\n",
       "      <td>Auction</td>\n",
       "      <td>Pre-Owned</td>\n",
       "      <td>Commission Short</td>\n",
       "      <td>NaN</td>\n",
       "      <td>Bottom</td>\n",
       "    </tr>\n",
       "    <tr>\n",
       "      <th>3</th>\n",
       "      <td>7/21/2017</td>\n",
       "      <td>XL</td>\n",
       "      <td>35.70</td>\n",
       "      <td>Fixed</td>\n",
       "      <td>Pre-Owned</td>\n",
       "      <td>Unknown</td>\n",
       "      <td>Long Sleeve</td>\n",
       "      <td>Top</td>\n",
       "    </tr>\n",
       "    <tr>\n",
       "      <th>4</th>\n",
       "      <td>7/25/2017</td>\n",
       "      <td>L</td>\n",
       "      <td>54.99</td>\n",
       "      <td>Fixed</td>\n",
       "      <td>Pre-Owned</td>\n",
       "      <td>T.H.E. Short</td>\n",
       "      <td>Linerless</td>\n",
       "      <td>Bottom</td>\n",
       "    </tr>\n",
       "  </tbody>\n",
       "</table>\n",
       "</div>"
      ],
      "text/plain": [
       "   Sale Date Size  Price Listing Format Item Condition                  Style  \\\n",
       "0  6/24/2017  XXL  30.70          Fixed      Pre-Owned  Metal Vent Tech Shirt   \n",
       "1   7/5/2017   XL  42.00        Auction      Pre-Owned                Unknown   \n",
       "2  7/17/2017  XXL  20.50        Auction      Pre-Owned       Commission Short   \n",
       "3  7/21/2017   XL  35.70          Fixed      Pre-Owned                Unknown   \n",
       "4  7/25/2017    L  54.99          Fixed      Pre-Owned           T.H.E. Short   \n",
       "\n",
       "  Item Specifics Item Type  \n",
       "0    Long Sleeve       Top  \n",
       "1   Short Sleeve       Top  \n",
       "2            NaN    Bottom  \n",
       "3    Long Sleeve       Top  \n",
       "4      Linerless    Bottom  "
      ]
     },
     "execution_count": 4,
     "metadata": {},
     "output_type": "execute_result"
    }
   ],
   "source": [
    "# Take a look at the data.\n",
    "\n",
    "print(data.shape)\n",
    "data.head()"
   ]
  },
  {
   "cell_type": "markdown",
   "metadata": {},
   "source": [
    "### Data Cleaning\n",
    "#### - These are men's items only.\n",
    "#### - We know the style of each item and each item sale was a fixed price listing."
   ]
  },
  {
   "cell_type": "code",
   "execution_count": 5,
   "metadata": {},
   "outputs": [],
   "source": [
    "data = data[data['Style'] != 'Unknown']"
   ]
  },
  {
   "cell_type": "code",
   "execution_count": 6,
   "metadata": {},
   "outputs": [],
   "source": [
    "data = data[data['Listing Format'] != 'Auction']"
   ]
  },
  {
   "cell_type": "code",
   "execution_count": 7,
   "metadata": {},
   "outputs": [],
   "source": [
    "data = data[~data['Style'].str.contains('Pant')]"
   ]
  },
  {
   "cell_type": "code",
   "execution_count": 8,
   "metadata": {},
   "outputs": [],
   "source": [
    "data = data[~data['Style'].str.contains('Jogger')]"
   ]
  },
  {
   "cell_type": "code",
   "execution_count": 10,
   "metadata": {},
   "outputs": [
    {
     "name": "stdout",
     "output_type": "stream",
     "text": [
      "(110, 8)\n"
     ]
    },
    {
     "data": {
      "text/html": [
       "<div>\n",
       "<style scoped>\n",
       "    .dataframe tbody tr th:only-of-type {\n",
       "        vertical-align: middle;\n",
       "    }\n",
       "\n",
       "    .dataframe tbody tr th {\n",
       "        vertical-align: top;\n",
       "    }\n",
       "\n",
       "    .dataframe thead th {\n",
       "        text-align: right;\n",
       "    }\n",
       "</style>\n",
       "<table border=\"1\" class=\"dataframe\">\n",
       "  <thead>\n",
       "    <tr style=\"text-align: right;\">\n",
       "      <th></th>\n",
       "      <th>Sale Date</th>\n",
       "      <th>Size</th>\n",
       "      <th>Price</th>\n",
       "      <th>Listing Format</th>\n",
       "      <th>Item Condition</th>\n",
       "      <th>Style</th>\n",
       "      <th>Item Specifics</th>\n",
       "      <th>Item Type</th>\n",
       "    </tr>\n",
       "  </thead>\n",
       "  <tbody>\n",
       "    <tr>\n",
       "      <th>0</th>\n",
       "      <td>6/24/2017</td>\n",
       "      <td>XXL</td>\n",
       "      <td>30.70</td>\n",
       "      <td>Fixed</td>\n",
       "      <td>Pre-Owned</td>\n",
       "      <td>Metal Vent Tech Shirt</td>\n",
       "      <td>Long Sleeve</td>\n",
       "      <td>Top</td>\n",
       "    </tr>\n",
       "    <tr>\n",
       "      <th>4</th>\n",
       "      <td>7/25/2017</td>\n",
       "      <td>L</td>\n",
       "      <td>54.99</td>\n",
       "      <td>Fixed</td>\n",
       "      <td>Pre-Owned</td>\n",
       "      <td>T.H.E. Short</td>\n",
       "      <td>Linerless</td>\n",
       "      <td>Bottom</td>\n",
       "    </tr>\n",
       "    <tr>\n",
       "      <th>10</th>\n",
       "      <td>8/12/2017</td>\n",
       "      <td>XXL</td>\n",
       "      <td>40.70</td>\n",
       "      <td>Fixed</td>\n",
       "      <td>Pre-Owned</td>\n",
       "      <td>Pace Breaker Short</td>\n",
       "      <td>Lined</td>\n",
       "      <td>Bottom</td>\n",
       "    </tr>\n",
       "    <tr>\n",
       "      <th>13</th>\n",
       "      <td>8/14/2017</td>\n",
       "      <td>L</td>\n",
       "      <td>47.70</td>\n",
       "      <td>Fixed</td>\n",
       "      <td>Pre-Owned</td>\n",
       "      <td>Surge Short</td>\n",
       "      <td>Lined</td>\n",
       "      <td>Bottom</td>\n",
       "    </tr>\n",
       "    <tr>\n",
       "      <th>18</th>\n",
       "      <td>8/21/2017</td>\n",
       "      <td>M</td>\n",
       "      <td>32.00</td>\n",
       "      <td>Fixed</td>\n",
       "      <td>Pre-Owned</td>\n",
       "      <td>Metal Vent Tech Shirt</td>\n",
       "      <td>Short Sleeve</td>\n",
       "      <td>Top</td>\n",
       "    </tr>\n",
       "  </tbody>\n",
       "</table>\n",
       "</div>"
      ],
      "text/plain": [
       "    Sale Date Size  Price Listing Format Item Condition  \\\n",
       "0   6/24/2017  XXL  30.70          Fixed      Pre-Owned   \n",
       "4   7/25/2017    L  54.99          Fixed      Pre-Owned   \n",
       "10  8/12/2017  XXL  40.70          Fixed      Pre-Owned   \n",
       "13  8/14/2017    L  47.70          Fixed      Pre-Owned   \n",
       "18  8/21/2017    M  32.00          Fixed      Pre-Owned   \n",
       "\n",
       "                    Style Item Specifics Item Type  \n",
       "0   Metal Vent Tech Shirt    Long Sleeve       Top  \n",
       "4            T.H.E. Short      Linerless    Bottom  \n",
       "10     Pace Breaker Short          Lined    Bottom  \n",
       "13            Surge Short          Lined    Bottom  \n",
       "18  Metal Vent Tech Shirt   Short Sleeve       Top  "
      ]
     },
     "execution_count": 10,
     "metadata": {},
     "output_type": "execute_result"
    }
   ],
   "source": [
    "print(data.shape)\n",
    "data.head()"
   ]
  },
  {
   "cell_type": "code",
   "execution_count": 12,
   "metadata": {},
   "outputs": [],
   "source": [
    "# Drop columns that won't be used for feature engineering.\n",
    "\n",
    "data = data.drop(columns=['Listing Format', 'Item Type'])"
   ]
  },
  {
   "cell_type": "markdown",
   "metadata": {},
   "source": [
    "### Feature engineering\n",
    "#### - Create a season feature out of pre-existing sale date feature."
   ]
  },
  {
   "cell_type": "code",
   "execution_count": 13,
   "metadata": {},
   "outputs": [],
   "source": [
    "#Summer 2017: 6/20 - 9/22\n",
    "\n",
    "#Fall 2017: 9/22 - 12/21\n",
    "\n",
    "#Winter 2017/2018: 12/21 - 3/20\n",
    "\n",
    "#Spring 2018: 3/20 - 6/21"
   ]
  },
  {
   "cell_type": "code",
   "execution_count": 14,
   "metadata": {},
   "outputs": [],
   "source": [
    "data['Sale Date'] = pd.to_datetime(data['Sale Date'])"
   ]
  },
  {
   "cell_type": "code",
   "execution_count": 15,
   "metadata": {},
   "outputs": [],
   "source": [
    "data = data.set_index('Sale Date')"
   ]
  },
  {
   "cell_type": "code",
   "execution_count": 16,
   "metadata": {},
   "outputs": [
    {
     "data": {
      "text/html": [
       "<div>\n",
       "<style scoped>\n",
       "    .dataframe tbody tr th:only-of-type {\n",
       "        vertical-align: middle;\n",
       "    }\n",
       "\n",
       "    .dataframe tbody tr th {\n",
       "        vertical-align: top;\n",
       "    }\n",
       "\n",
       "    .dataframe thead th {\n",
       "        text-align: right;\n",
       "    }\n",
       "</style>\n",
       "<table border=\"1\" class=\"dataframe\">\n",
       "  <thead>\n",
       "    <tr style=\"text-align: right;\">\n",
       "      <th></th>\n",
       "      <th>Size</th>\n",
       "      <th>Price</th>\n",
       "      <th>Item Condition</th>\n",
       "      <th>Style</th>\n",
       "      <th>Item Specifics</th>\n",
       "    </tr>\n",
       "    <tr>\n",
       "      <th>Sale Date</th>\n",
       "      <th></th>\n",
       "      <th></th>\n",
       "      <th></th>\n",
       "      <th></th>\n",
       "      <th></th>\n",
       "    </tr>\n",
       "  </thead>\n",
       "  <tbody>\n",
       "    <tr>\n",
       "      <th>2017-06-24</th>\n",
       "      <td>XXL</td>\n",
       "      <td>30.70</td>\n",
       "      <td>Pre-Owned</td>\n",
       "      <td>Metal Vent Tech Shirt</td>\n",
       "      <td>Long Sleeve</td>\n",
       "    </tr>\n",
       "    <tr>\n",
       "      <th>2017-07-25</th>\n",
       "      <td>L</td>\n",
       "      <td>54.99</td>\n",
       "      <td>Pre-Owned</td>\n",
       "      <td>T.H.E. Short</td>\n",
       "      <td>Linerless</td>\n",
       "    </tr>\n",
       "    <tr>\n",
       "      <th>2017-08-12</th>\n",
       "      <td>XXL</td>\n",
       "      <td>40.70</td>\n",
       "      <td>Pre-Owned</td>\n",
       "      <td>Pace Breaker Short</td>\n",
       "      <td>Lined</td>\n",
       "    </tr>\n",
       "    <tr>\n",
       "      <th>2017-08-14</th>\n",
       "      <td>L</td>\n",
       "      <td>47.70</td>\n",
       "      <td>Pre-Owned</td>\n",
       "      <td>Surge Short</td>\n",
       "      <td>Lined</td>\n",
       "    </tr>\n",
       "    <tr>\n",
       "      <th>2017-08-21</th>\n",
       "      <td>M</td>\n",
       "      <td>32.00</td>\n",
       "      <td>Pre-Owned</td>\n",
       "      <td>Metal Vent Tech Shirt</td>\n",
       "      <td>Short Sleeve</td>\n",
       "    </tr>\n",
       "  </tbody>\n",
       "</table>\n",
       "</div>"
      ],
      "text/plain": [
       "           Size  Price Item Condition                  Style Item Specifics\n",
       "Sale Date                                                                  \n",
       "2017-06-24  XXL  30.70      Pre-Owned  Metal Vent Tech Shirt    Long Sleeve\n",
       "2017-07-25    L  54.99      Pre-Owned           T.H.E. Short      Linerless\n",
       "2017-08-12  XXL  40.70      Pre-Owned     Pace Breaker Short          Lined\n",
       "2017-08-14    L  47.70      Pre-Owned            Surge Short          Lined\n",
       "2017-08-21    M  32.00      Pre-Owned  Metal Vent Tech Shirt   Short Sleeve"
      ]
     },
     "execution_count": 16,
     "metadata": {},
     "output_type": "execute_result"
    }
   ],
   "source": [
    "data.head()"
   ]
  },
  {
   "cell_type": "markdown",
   "metadata": {},
   "source": [
    "#### Summer"
   ]
  },
  {
   "cell_type": "code",
   "execution_count": 17,
   "metadata": {},
   "outputs": [],
   "source": [
    "summer = data['2017-06-20':'2017-09-21']"
   ]
  },
  {
   "cell_type": "code",
   "execution_count": 18,
   "metadata": {},
   "outputs": [],
   "source": [
    "summer = summer.reset_index()"
   ]
  },
  {
   "cell_type": "code",
   "execution_count": 19,
   "metadata": {},
   "outputs": [],
   "source": [
    "# Add season feature.\n",
    "\n",
    "summer['Season'] = 'Summer'"
   ]
  },
  {
   "cell_type": "code",
   "execution_count": 20,
   "metadata": {},
   "outputs": [
    {
     "data": {
      "text/html": [
       "<div>\n",
       "<style scoped>\n",
       "    .dataframe tbody tr th:only-of-type {\n",
       "        vertical-align: middle;\n",
       "    }\n",
       "\n",
       "    .dataframe tbody tr th {\n",
       "        vertical-align: top;\n",
       "    }\n",
       "\n",
       "    .dataframe thead th {\n",
       "        text-align: right;\n",
       "    }\n",
       "</style>\n",
       "<table border=\"1\" class=\"dataframe\">\n",
       "  <thead>\n",
       "    <tr style=\"text-align: right;\">\n",
       "      <th></th>\n",
       "      <th>Sale Date</th>\n",
       "      <th>Size</th>\n",
       "      <th>Price</th>\n",
       "      <th>Item Condition</th>\n",
       "      <th>Style</th>\n",
       "      <th>Item Specifics</th>\n",
       "      <th>Season</th>\n",
       "    </tr>\n",
       "  </thead>\n",
       "  <tbody>\n",
       "    <tr>\n",
       "      <th>0</th>\n",
       "      <td>2017-06-24</td>\n",
       "      <td>XXL</td>\n",
       "      <td>30.70</td>\n",
       "      <td>Pre-Owned</td>\n",
       "      <td>Metal Vent Tech Shirt</td>\n",
       "      <td>Long Sleeve</td>\n",
       "      <td>Summer</td>\n",
       "    </tr>\n",
       "    <tr>\n",
       "      <th>1</th>\n",
       "      <td>2017-07-25</td>\n",
       "      <td>L</td>\n",
       "      <td>54.99</td>\n",
       "      <td>Pre-Owned</td>\n",
       "      <td>T.H.E. Short</td>\n",
       "      <td>Linerless</td>\n",
       "      <td>Summer</td>\n",
       "    </tr>\n",
       "    <tr>\n",
       "      <th>2</th>\n",
       "      <td>2017-08-12</td>\n",
       "      <td>XXL</td>\n",
       "      <td>40.70</td>\n",
       "      <td>Pre-Owned</td>\n",
       "      <td>Pace Breaker Short</td>\n",
       "      <td>Lined</td>\n",
       "      <td>Summer</td>\n",
       "    </tr>\n",
       "    <tr>\n",
       "      <th>3</th>\n",
       "      <td>2017-08-14</td>\n",
       "      <td>L</td>\n",
       "      <td>47.70</td>\n",
       "      <td>Pre-Owned</td>\n",
       "      <td>Surge Short</td>\n",
       "      <td>Lined</td>\n",
       "      <td>Summer</td>\n",
       "    </tr>\n",
       "    <tr>\n",
       "      <th>4</th>\n",
       "      <td>2017-08-21</td>\n",
       "      <td>M</td>\n",
       "      <td>32.00</td>\n",
       "      <td>Pre-Owned</td>\n",
       "      <td>Metal Vent Tech Shirt</td>\n",
       "      <td>Short Sleeve</td>\n",
       "      <td>Summer</td>\n",
       "    </tr>\n",
       "  </tbody>\n",
       "</table>\n",
       "</div>"
      ],
      "text/plain": [
       "   Sale Date Size  Price Item Condition                  Style Item Specifics  \\\n",
       "0 2017-06-24  XXL  30.70      Pre-Owned  Metal Vent Tech Shirt    Long Sleeve   \n",
       "1 2017-07-25    L  54.99      Pre-Owned           T.H.E. Short      Linerless   \n",
       "2 2017-08-12  XXL  40.70      Pre-Owned     Pace Breaker Short          Lined   \n",
       "3 2017-08-14    L  47.70      Pre-Owned            Surge Short          Lined   \n",
       "4 2017-08-21    M  32.00      Pre-Owned  Metal Vent Tech Shirt   Short Sleeve   \n",
       "\n",
       "   Season  \n",
       "0  Summer  \n",
       "1  Summer  \n",
       "2  Summer  \n",
       "3  Summer  \n",
       "4  Summer  "
      ]
     },
     "execution_count": 20,
     "metadata": {},
     "output_type": "execute_result"
    }
   ],
   "source": [
    "summer.head()"
   ]
  },
  {
   "cell_type": "markdown",
   "metadata": {},
   "source": [
    "#### Fall"
   ]
  },
  {
   "cell_type": "code",
   "execution_count": 21,
   "metadata": {},
   "outputs": [],
   "source": [
    "fall = data['2017-09-22':'2017-12-20']"
   ]
  },
  {
   "cell_type": "code",
   "execution_count": 22,
   "metadata": {},
   "outputs": [],
   "source": [
    "fall = fall.reset_index()"
   ]
  },
  {
   "cell_type": "code",
   "execution_count": 23,
   "metadata": {},
   "outputs": [],
   "source": [
    "# Add season feature.\n",
    "\n",
    "fall['Season'] = 'Fall'"
   ]
  },
  {
   "cell_type": "code",
   "execution_count": 24,
   "metadata": {},
   "outputs": [
    {
     "data": {
      "text/html": [
       "<div>\n",
       "<style scoped>\n",
       "    .dataframe tbody tr th:only-of-type {\n",
       "        vertical-align: middle;\n",
       "    }\n",
       "\n",
       "    .dataframe tbody tr th {\n",
       "        vertical-align: top;\n",
       "    }\n",
       "\n",
       "    .dataframe thead th {\n",
       "        text-align: right;\n",
       "    }\n",
       "</style>\n",
       "<table border=\"1\" class=\"dataframe\">\n",
       "  <thead>\n",
       "    <tr style=\"text-align: right;\">\n",
       "      <th></th>\n",
       "      <th>Sale Date</th>\n",
       "      <th>Size</th>\n",
       "      <th>Price</th>\n",
       "      <th>Item Condition</th>\n",
       "      <th>Style</th>\n",
       "      <th>Item Specifics</th>\n",
       "      <th>Season</th>\n",
       "    </tr>\n",
       "  </thead>\n",
       "  <tbody>\n",
       "    <tr>\n",
       "      <th>0</th>\n",
       "      <td>2017-10-02</td>\n",
       "      <td>L</td>\n",
       "      <td>34.00</td>\n",
       "      <td>Pre-Owned</td>\n",
       "      <td>Evolution Polo</td>\n",
       "      <td>Short Sleeve</td>\n",
       "      <td>Fall</td>\n",
       "    </tr>\n",
       "    <tr>\n",
       "      <th>1</th>\n",
       "      <td>2017-10-08</td>\n",
       "      <td>L</td>\n",
       "      <td>43.70</td>\n",
       "      <td>Pre-Owned</td>\n",
       "      <td>Pace Breaker Short</td>\n",
       "      <td>Lined</td>\n",
       "      <td>Fall</td>\n",
       "    </tr>\n",
       "    <tr>\n",
       "      <th>2</th>\n",
       "      <td>2017-10-13</td>\n",
       "      <td>L</td>\n",
       "      <td>49.99</td>\n",
       "      <td>Pre-Owned</td>\n",
       "      <td>Metal Vent Tech Shirt</td>\n",
       "      <td>Long Sleeve</td>\n",
       "      <td>Fall</td>\n",
       "    </tr>\n",
       "    <tr>\n",
       "      <th>3</th>\n",
       "      <td>2017-10-22</td>\n",
       "      <td>L</td>\n",
       "      <td>49.99</td>\n",
       "      <td>Pre-Owned</td>\n",
       "      <td>Metal Vent Tech Shirt</td>\n",
       "      <td>Short Sleeve</td>\n",
       "      <td>Fall</td>\n",
       "    </tr>\n",
       "    <tr>\n",
       "      <th>4</th>\n",
       "      <td>2017-10-23</td>\n",
       "      <td>L</td>\n",
       "      <td>46.99</td>\n",
       "      <td>Pre-Owned</td>\n",
       "      <td>Metal Vent Tech Shirt</td>\n",
       "      <td>Short Sleeve</td>\n",
       "      <td>Fall</td>\n",
       "    </tr>\n",
       "  </tbody>\n",
       "</table>\n",
       "</div>"
      ],
      "text/plain": [
       "   Sale Date Size  Price Item Condition                  Style Item Specifics  \\\n",
       "0 2017-10-02    L  34.00      Pre-Owned         Evolution Polo   Short Sleeve   \n",
       "1 2017-10-08    L  43.70      Pre-Owned     Pace Breaker Short          Lined   \n",
       "2 2017-10-13    L  49.99      Pre-Owned  Metal Vent Tech Shirt    Long Sleeve   \n",
       "3 2017-10-22    L  49.99      Pre-Owned  Metal Vent Tech Shirt   Short Sleeve   \n",
       "4 2017-10-23    L  46.99      Pre-Owned  Metal Vent Tech Shirt   Short Sleeve   \n",
       "\n",
       "  Season  \n",
       "0   Fall  \n",
       "1   Fall  \n",
       "2   Fall  \n",
       "3   Fall  \n",
       "4   Fall  "
      ]
     },
     "execution_count": 24,
     "metadata": {},
     "output_type": "execute_result"
    }
   ],
   "source": [
    "fall.head()"
   ]
  },
  {
   "cell_type": "markdown",
   "metadata": {},
   "source": [
    "#### Winter"
   ]
  },
  {
   "cell_type": "code",
   "execution_count": 25,
   "metadata": {},
   "outputs": [],
   "source": [
    "winter = data['2017-12-21':'2018-03-19']"
   ]
  },
  {
   "cell_type": "code",
   "execution_count": 26,
   "metadata": {},
   "outputs": [],
   "source": [
    "winter = winter.reset_index()"
   ]
  },
  {
   "cell_type": "code",
   "execution_count": 27,
   "metadata": {},
   "outputs": [],
   "source": [
    "# Add season feature.\n",
    "\n",
    "winter['Season'] = 'Winter'"
   ]
  },
  {
   "cell_type": "code",
   "execution_count": 28,
   "metadata": {},
   "outputs": [
    {
     "data": {
      "text/html": [
       "<div>\n",
       "<style scoped>\n",
       "    .dataframe tbody tr th:only-of-type {\n",
       "        vertical-align: middle;\n",
       "    }\n",
       "\n",
       "    .dataframe tbody tr th {\n",
       "        vertical-align: top;\n",
       "    }\n",
       "\n",
       "    .dataframe thead th {\n",
       "        text-align: right;\n",
       "    }\n",
       "</style>\n",
       "<table border=\"1\" class=\"dataframe\">\n",
       "  <thead>\n",
       "    <tr style=\"text-align: right;\">\n",
       "      <th></th>\n",
       "      <th>Sale Date</th>\n",
       "      <th>Size</th>\n",
       "      <th>Price</th>\n",
       "      <th>Item Condition</th>\n",
       "      <th>Style</th>\n",
       "      <th>Item Specifics</th>\n",
       "      <th>Season</th>\n",
       "    </tr>\n",
       "  </thead>\n",
       "  <tbody>\n",
       "    <tr>\n",
       "      <th>0</th>\n",
       "      <td>2017-12-25</td>\n",
       "      <td>L</td>\n",
       "      <td>46.99</td>\n",
       "      <td>Pre-Owned</td>\n",
       "      <td>Metal Vent Tech Shirt</td>\n",
       "      <td>Long Sleeve</td>\n",
       "      <td>Winter</td>\n",
       "    </tr>\n",
       "    <tr>\n",
       "      <th>1</th>\n",
       "      <td>2018-01-03</td>\n",
       "      <td>M</td>\n",
       "      <td>47.99</td>\n",
       "      <td>Pre-Owned</td>\n",
       "      <td>T.H.E. Short</td>\n",
       "      <td>Lined</td>\n",
       "      <td>Winter</td>\n",
       "    </tr>\n",
       "    <tr>\n",
       "      <th>2</th>\n",
       "      <td>2018-01-18</td>\n",
       "      <td>L</td>\n",
       "      <td>46.99</td>\n",
       "      <td>Pre-Owned</td>\n",
       "      <td>Surge Short</td>\n",
       "      <td>Linerless</td>\n",
       "      <td>Winter</td>\n",
       "    </tr>\n",
       "    <tr>\n",
       "      <th>3</th>\n",
       "      <td>2018-01-19</td>\n",
       "      <td>L</td>\n",
       "      <td>35.00</td>\n",
       "      <td>Pre-Owned</td>\n",
       "      <td>Metal Vent Tech Shirt</td>\n",
       "      <td>Short Sleeve</td>\n",
       "      <td>Winter</td>\n",
       "    </tr>\n",
       "    <tr>\n",
       "      <th>4</th>\n",
       "      <td>2018-01-21</td>\n",
       "      <td>L</td>\n",
       "      <td>35.00</td>\n",
       "      <td>Pre-Owned</td>\n",
       "      <td>Surge Short</td>\n",
       "      <td>Linerless</td>\n",
       "      <td>Winter</td>\n",
       "    </tr>\n",
       "  </tbody>\n",
       "</table>\n",
       "</div>"
      ],
      "text/plain": [
       "   Sale Date Size  Price Item Condition                  Style Item Specifics  \\\n",
       "0 2017-12-25    L  46.99      Pre-Owned  Metal Vent Tech Shirt    Long Sleeve   \n",
       "1 2018-01-03    M  47.99      Pre-Owned           T.H.E. Short          Lined   \n",
       "2 2018-01-18    L  46.99      Pre-Owned            Surge Short      Linerless   \n",
       "3 2018-01-19    L  35.00      Pre-Owned  Metal Vent Tech Shirt   Short Sleeve   \n",
       "4 2018-01-21    L  35.00      Pre-Owned            Surge Short      Linerless   \n",
       "\n",
       "   Season  \n",
       "0  Winter  \n",
       "1  Winter  \n",
       "2  Winter  \n",
       "3  Winter  \n",
       "4  Winter  "
      ]
     },
     "execution_count": 28,
     "metadata": {},
     "output_type": "execute_result"
    }
   ],
   "source": [
    "winter.head()"
   ]
  },
  {
   "cell_type": "markdown",
   "metadata": {},
   "source": [
    "#### Spring"
   ]
  },
  {
   "cell_type": "code",
   "execution_count": 29,
   "metadata": {},
   "outputs": [],
   "source": [
    "spring = data['2018-03-20':'2018-06-20']"
   ]
  },
  {
   "cell_type": "code",
   "execution_count": 30,
   "metadata": {},
   "outputs": [],
   "source": [
    "spring = spring.reset_index()"
   ]
  },
  {
   "cell_type": "code",
   "execution_count": 31,
   "metadata": {},
   "outputs": [],
   "source": [
    "# Add season feature.\n",
    "\n",
    "spring['Season'] = 'Spring'"
   ]
  },
  {
   "cell_type": "code",
   "execution_count": 32,
   "metadata": {},
   "outputs": [],
   "source": [
    "# Concatenate the season dataframes.\n",
    "\n",
    "data = pd.concat([summer, fall, winter, spring])"
   ]
  },
  {
   "cell_type": "code",
   "execution_count": 33,
   "metadata": {},
   "outputs": [],
   "source": [
    "# Drop the sale date feature.\n",
    "\n",
    "data = data.drop(columns='Sale Date')"
   ]
  },
  {
   "cell_type": "code",
   "execution_count": 34,
   "metadata": {},
   "outputs": [
    {
     "data": {
      "text/html": [
       "<div>\n",
       "<style scoped>\n",
       "    .dataframe tbody tr th:only-of-type {\n",
       "        vertical-align: middle;\n",
       "    }\n",
       "\n",
       "    .dataframe tbody tr th {\n",
       "        vertical-align: top;\n",
       "    }\n",
       "\n",
       "    .dataframe thead th {\n",
       "        text-align: right;\n",
       "    }\n",
       "</style>\n",
       "<table border=\"1\" class=\"dataframe\">\n",
       "  <thead>\n",
       "    <tr style=\"text-align: right;\">\n",
       "      <th></th>\n",
       "      <th>Size</th>\n",
       "      <th>Price</th>\n",
       "      <th>Item Condition</th>\n",
       "      <th>Style</th>\n",
       "      <th>Item Specifics</th>\n",
       "      <th>Season</th>\n",
       "    </tr>\n",
       "  </thead>\n",
       "  <tbody>\n",
       "    <tr>\n",
       "      <th>0</th>\n",
       "      <td>XXL</td>\n",
       "      <td>30.70</td>\n",
       "      <td>Pre-Owned</td>\n",
       "      <td>Metal Vent Tech Shirt</td>\n",
       "      <td>Long Sleeve</td>\n",
       "      <td>Summer</td>\n",
       "    </tr>\n",
       "    <tr>\n",
       "      <th>1</th>\n",
       "      <td>L</td>\n",
       "      <td>54.99</td>\n",
       "      <td>Pre-Owned</td>\n",
       "      <td>T.H.E. Short</td>\n",
       "      <td>Linerless</td>\n",
       "      <td>Summer</td>\n",
       "    </tr>\n",
       "    <tr>\n",
       "      <th>2</th>\n",
       "      <td>XXL</td>\n",
       "      <td>40.70</td>\n",
       "      <td>Pre-Owned</td>\n",
       "      <td>Pace Breaker Short</td>\n",
       "      <td>Lined</td>\n",
       "      <td>Summer</td>\n",
       "    </tr>\n",
       "    <tr>\n",
       "      <th>3</th>\n",
       "      <td>L</td>\n",
       "      <td>47.70</td>\n",
       "      <td>Pre-Owned</td>\n",
       "      <td>Surge Short</td>\n",
       "      <td>Lined</td>\n",
       "      <td>Summer</td>\n",
       "    </tr>\n",
       "    <tr>\n",
       "      <th>4</th>\n",
       "      <td>M</td>\n",
       "      <td>32.00</td>\n",
       "      <td>Pre-Owned</td>\n",
       "      <td>Metal Vent Tech Shirt</td>\n",
       "      <td>Short Sleeve</td>\n",
       "      <td>Summer</td>\n",
       "    </tr>\n",
       "  </tbody>\n",
       "</table>\n",
       "</div>"
      ],
      "text/plain": [
       "  Size  Price Item Condition                  Style Item Specifics  Season\n",
       "0  XXL  30.70      Pre-Owned  Metal Vent Tech Shirt    Long Sleeve  Summer\n",
       "1    L  54.99      Pre-Owned           T.H.E. Short      Linerless  Summer\n",
       "2  XXL  40.70      Pre-Owned     Pace Breaker Short          Lined  Summer\n",
       "3    L  47.70      Pre-Owned            Surge Short          Lined  Summer\n",
       "4    M  32.00      Pre-Owned  Metal Vent Tech Shirt   Short Sleeve  Summer"
      ]
     },
     "execution_count": 34,
     "metadata": {},
     "output_type": "execute_result"
    }
   ],
   "source": [
    "data.head()"
   ]
  },
  {
   "cell_type": "markdown",
   "metadata": {},
   "source": [
    "#### How is price distributed across style?"
   ]
  },
  {
   "cell_type": "code",
   "execution_count": 35,
   "metadata": {},
   "outputs": [],
   "source": [
    "import seaborn as sns"
   ]
  },
  {
   "cell_type": "code",
   "execution_count": 36,
   "metadata": {},
   "outputs": [
    {
     "data": {
      "text/plain": [
       "Metal Vent Tech Shirt        35\n",
       "T.H.E. Short                 20\n",
       "Surge Short                  18\n",
       "Pace Breaker Short           12\n",
       "Metal Vent Tech Polo          5\n",
       "Metal Vent Tech Tank Top      5\n",
       "Metal Vent Tech 1/2 Zip       4\n",
       "Evolution Polo                3\n",
       "Surge Warm                    2\n",
       "Metal Vent Tech Henley        2\n",
       "Current State Board Short     1\n",
       "Commission Shirt              1\n",
       "5 Year Basic Tee              1\n",
       "Commission Short              1\n",
       "Name: Style, dtype: int64"
      ]
     },
     "execution_count": 36,
     "metadata": {},
     "output_type": "execute_result"
    }
   ],
   "source": [
    "data['Style'].value_counts()"
   ]
  },
  {
   "cell_type": "markdown",
   "metadata": {},
   "source": [
    "##### Metal Vent Tech Shirt"
   ]
  },
  {
   "cell_type": "code",
   "execution_count": 37,
   "metadata": {},
   "outputs": [
    {
     "data": {
      "text/plain": [
       "count    35.000000\n",
       "mean     42.318571\n",
       "std       5.118049\n",
       "min      30.700000\n",
       "25%      40.000000\n",
       "50%      41.990000\n",
       "75%      44.990000\n",
       "max      49.990000\n",
       "Name: Price, dtype: float64"
      ]
     },
     "execution_count": 37,
     "metadata": {},
     "output_type": "execute_result"
    }
   ],
   "source": [
    "metal = data[data['Style'] == 'Metal Vent Tech Shirt']\n",
    "\n",
    "metal['Price'].describe()"
   ]
  },
  {
   "cell_type": "code",
   "execution_count": 38,
   "metadata": {},
   "outputs": [
    {
     "name": "stdout",
     "output_type": "stream",
     "text": [
      "Average price of Metal Vent Tech Shirts: $ 42.31857142857143\n"
     ]
    },
    {
     "data": {
      "image/png": "[encoded data removed]",
      "text/plain": [
       "<Figure size 432x288 with 1 Axes>"
      ]
     },
     "metadata": {
      "needs_background": "light"
     },
     "output_type": "display_data"
    }
   ],
   "source": [
    "sns.distplot(metal['Price']);\n",
    "mean = metal['Price'].mean()\n",
    "print('Average price of Metal Vent Tech Shirts:', '$', mean )"
   ]
  },
  {
   "cell_type": "markdown",
   "metadata": {},
   "source": [
    "##### T.H.E. Short"
   ]
  },
  {
   "cell_type": "code",
   "execution_count": 39,
   "metadata": {},
   "outputs": [
    {
     "data": {
      "text/plain": [
       "count    20.000000\n",
       "mean     45.395000\n",
       "std       5.131743\n",
       "min      35.000000\n",
       "25%      41.990000\n",
       "50%      45.005000\n",
       "75%      48.490000\n",
       "max      54.990000\n",
       "Name: Price, dtype: float64"
      ]
     },
     "execution_count": 39,
     "metadata": {},
     "output_type": "execute_result"
    }
   ],
   "source": [
    "the_short = data[data['Style'] == 'T.H.E. Short']\n",
    "\n",
    "the_short['Price'].describe()"
   ]
  },
  {
   "cell_type": "code",
   "execution_count": 40,
   "metadata": {},
   "outputs": [
    {
     "name": "stdout",
     "output_type": "stream",
     "text": [
      "Average price of T.H.E. Short: $ 45.395\n"
     ]
    },
    {
     "data": {
      "image/png": "[encoded data removed]",
      "text/plain": [
       "<Figure size 432x288 with 1 Axes>"
      ]
     },
     "metadata": {
      "needs_background": "light"
     },
     "output_type": "display_data"
    }
   ],
   "source": [
    "sns.distplot(the_short['Price']);\n",
    "mean = the_short['Price'].mean()\n",
    "print('Average price of T.H.E. Short:', '$', mean )"
   ]
  },
  {
   "cell_type": "markdown",
   "metadata": {},
   "source": [
    "#### Surge Short"
   ]
  },
  {
   "cell_type": "code",
   "execution_count": 41,
   "metadata": {},
   "outputs": [
    {
     "data": {
      "text/plain": [
       "count    18.000000\n",
       "mean     41.867222\n",
       "std       4.664847\n",
       "min      30.000000\n",
       "25%      40.000000\n",
       "50%      41.990000\n",
       "75%      44.997500\n",
       "max      47.990000\n",
       "Name: Price, dtype: float64"
      ]
     },
     "execution_count": 41,
     "metadata": {},
     "output_type": "execute_result"
    }
   ],
   "source": [
    "surge_short = data[data['Style'] == 'Surge Short']\n",
    "\n",
    "surge_short['Price'].describe()"
   ]
  },
  {
   "cell_type": "code",
   "execution_count": 42,
   "metadata": {},
   "outputs": [
    {
     "name": "stdout",
     "output_type": "stream",
     "text": [
      "Average price of Surge Short: $ 41.867222222222225\n"
     ]
    },
    {
     "data": {
      "image/png": "[encoded data removed]",
      "text/plain": [
       "<Figure size 432x288 with 1 Axes>"
      ]
     },
     "metadata": {
      "needs_background": "light"
     },
     "output_type": "display_data"
    }
   ],
   "source": [
    "sns.distplot(surge_short['Price']);\n",
    "mean = surge_short['Price'].mean()\n",
    "print('Average price of Surge Short:', '$', mean )"
   ]
  },
  {
   "cell_type": "markdown",
   "metadata": {},
   "source": [
    "### Look at how the target is distributed."
   ]
  },
  {
   "cell_type": "code",
   "execution_count": 43,
   "metadata": {},
   "outputs": [
    {
     "data": {
      "text/plain": [
       "count   110\n",
       "mean     43\n",
       "std       6\n",
       "min      20\n",
       "25%      40\n",
       "50%      43\n",
       "75%      47\n",
       "max      58\n",
       "Name: Price, dtype: float64"
      ]
     },
     "execution_count": 43,
     "metadata": {},
     "output_type": "execute_result"
    }
   ],
   "source": [
    "# Look at the descriptive statisitcs of the target.\n",
    "\n",
    "pd.options.display.float_format = '{:,.0f}'.format\n",
    "data['Price'].describe()"
   ]
  },
  {
   "cell_type": "code",
   "execution_count": 44,
   "metadata": {},
   "outputs": [
    {
     "data": {
      "image/png": "[encoded data removed]",
      "text/plain": [
       "<Figure size 432x288 with 1 Axes>"
      ]
     },
     "metadata": {
      "needs_background": "light"
     },
     "output_type": "display_data"
    }
   ],
   "source": [
    "# Visualize the distribution of the target.\n",
    "\n",
    "import seaborn as sns\n",
    "import matplotlib.pyplot as plt\n",
    "\n",
    "sns.distplot(data['Price']);"
   ]
  },
  {
   "cell_type": "code",
   "execution_count": 45,
   "metadata": {},
   "outputs": [
    {
     "data": {
      "text/html": [
       "<div>\n",
       "<style scoped>\n",
       "    .dataframe tbody tr th:only-of-type {\n",
       "        vertical-align: middle;\n",
       "    }\n",
       "\n",
       "    .dataframe tbody tr th {\n",
       "        vertical-align: top;\n",
       "    }\n",
       "\n",
       "    .dataframe thead th {\n",
       "        text-align: right;\n",
       "    }\n",
       "</style>\n",
       "<table border=\"1\" class=\"dataframe\">\n",
       "  <thead>\n",
       "    <tr style=\"text-align: right;\">\n",
       "      <th></th>\n",
       "      <th>Size</th>\n",
       "      <th>Price</th>\n",
       "      <th>Item Condition</th>\n",
       "      <th>Style</th>\n",
       "      <th>Item Specifics</th>\n",
       "      <th>Season</th>\n",
       "    </tr>\n",
       "  </thead>\n",
       "  <tbody>\n",
       "    <tr>\n",
       "      <th>0</th>\n",
       "      <td>XXL</td>\n",
       "      <td>31</td>\n",
       "      <td>Pre-Owned</td>\n",
       "      <td>Metal Vent Tech Shirt</td>\n",
       "      <td>Long Sleeve</td>\n",
       "      <td>Summer</td>\n",
       "    </tr>\n",
       "    <tr>\n",
       "      <th>1</th>\n",
       "      <td>L</td>\n",
       "      <td>55</td>\n",
       "      <td>Pre-Owned</td>\n",
       "      <td>T.H.E. Short</td>\n",
       "      <td>Linerless</td>\n",
       "      <td>Summer</td>\n",
       "    </tr>\n",
       "    <tr>\n",
       "      <th>2</th>\n",
       "      <td>XXL</td>\n",
       "      <td>41</td>\n",
       "      <td>Pre-Owned</td>\n",
       "      <td>Pace Breaker Short</td>\n",
       "      <td>Lined</td>\n",
       "      <td>Summer</td>\n",
       "    </tr>\n",
       "    <tr>\n",
       "      <th>3</th>\n",
       "      <td>L</td>\n",
       "      <td>48</td>\n",
       "      <td>Pre-Owned</td>\n",
       "      <td>Surge Short</td>\n",
       "      <td>Lined</td>\n",
       "      <td>Summer</td>\n",
       "    </tr>\n",
       "    <tr>\n",
       "      <th>4</th>\n",
       "      <td>M</td>\n",
       "      <td>32</td>\n",
       "      <td>Pre-Owned</td>\n",
       "      <td>Metal Vent Tech Shirt</td>\n",
       "      <td>Short Sleeve</td>\n",
       "      <td>Summer</td>\n",
       "    </tr>\n",
       "  </tbody>\n",
       "</table>\n",
       "</div>"
      ],
      "text/plain": [
       "  Size  Price Item Condition                  Style Item Specifics  Season\n",
       "0  XXL     31      Pre-Owned  Metal Vent Tech Shirt    Long Sleeve  Summer\n",
       "1    L     55      Pre-Owned           T.H.E. Short      Linerless  Summer\n",
       "2  XXL     41      Pre-Owned     Pace Breaker Short          Lined  Summer\n",
       "3    L     48      Pre-Owned            Surge Short          Lined  Summer\n",
       "4    M     32      Pre-Owned  Metal Vent Tech Shirt   Short Sleeve  Summer"
      ]
     },
     "execution_count": 45,
     "metadata": {},
     "output_type": "execute_result"
    }
   ],
   "source": [
    "data.head()"
   ]
  },
  {
   "cell_type": "markdown",
   "metadata": {},
   "source": [
    "### Create a new csv with the clean data."
   ]
  },
  {
   "cell_type": "code",
   "execution_count": 46,
   "metadata": {},
   "outputs": [],
   "source": [
    "data.to_csv('clean_lulu.csv', index=False)"
   ]
  },
  {
   "cell_type": "code",
   "execution_count": 47,
   "metadata": {},
   "outputs": [],
   "source": [
    "# Load the new data.\n",
    "\n",
    "df = pd.read_csv('clean_lulu.csv')"
   ]
  },
  {
   "cell_type": "code",
   "execution_count": 48,
   "metadata": {},
   "outputs": [
    {
     "name": "stdout",
     "output_type": "stream",
     "text": [
      "(110, 6)\n"
     ]
    },
    {
     "data": {
      "text/html": [
       "<div>\n",
       "<style scoped>\n",
       "    .dataframe tbody tr th:only-of-type {\n",
       "        vertical-align: middle;\n",
       "    }\n",
       "\n",
       "    .dataframe tbody tr th {\n",
       "        vertical-align: top;\n",
       "    }\n",
       "\n",
       "    .dataframe thead th {\n",
       "        text-align: right;\n",
       "    }\n",
       "</style>\n",
       "<table border=\"1\" class=\"dataframe\">\n",
       "  <thead>\n",
       "    <tr style=\"text-align: right;\">\n",
       "      <th></th>\n",
       "      <th>Size</th>\n",
       "      <th>Price</th>\n",
       "      <th>Item Condition</th>\n",
       "      <th>Style</th>\n",
       "      <th>Item Specifics</th>\n",
       "      <th>Season</th>\n",
       "    </tr>\n",
       "  </thead>\n",
       "  <tbody>\n",
       "    <tr>\n",
       "      <th>0</th>\n",
       "      <td>XXL</td>\n",
       "      <td>31</td>\n",
       "      <td>Pre-Owned</td>\n",
       "      <td>Metal Vent Tech Shirt</td>\n",
       "      <td>Long Sleeve</td>\n",
       "      <td>Summer</td>\n",
       "    </tr>\n",
       "    <tr>\n",
       "      <th>1</th>\n",
       "      <td>L</td>\n",
       "      <td>55</td>\n",
       "      <td>Pre-Owned</td>\n",
       "      <td>T.H.E. Short</td>\n",
       "      <td>Linerless</td>\n",
       "      <td>Summer</td>\n",
       "    </tr>\n",
       "    <tr>\n",
       "      <th>2</th>\n",
       "      <td>XXL</td>\n",
       "      <td>41</td>\n",
       "      <td>Pre-Owned</td>\n",
       "      <td>Pace Breaker Short</td>\n",
       "      <td>Lined</td>\n",
       "      <td>Summer</td>\n",
       "    </tr>\n",
       "    <tr>\n",
       "      <th>3</th>\n",
       "      <td>L</td>\n",
       "      <td>48</td>\n",
       "      <td>Pre-Owned</td>\n",
       "      <td>Surge Short</td>\n",
       "      <td>Lined</td>\n",
       "      <td>Summer</td>\n",
       "    </tr>\n",
       "    <tr>\n",
       "      <th>4</th>\n",
       "      <td>M</td>\n",
       "      <td>32</td>\n",
       "      <td>Pre-Owned</td>\n",
       "      <td>Metal Vent Tech Shirt</td>\n",
       "      <td>Short Sleeve</td>\n",
       "      <td>Summer</td>\n",
       "    </tr>\n",
       "  </tbody>\n",
       "</table>\n",
       "</div>"
      ],
      "text/plain": [
       "  Size  Price Item Condition                  Style Item Specifics  Season\n",
       "0  XXL     31      Pre-Owned  Metal Vent Tech Shirt    Long Sleeve  Summer\n",
       "1    L     55      Pre-Owned           T.H.E. Short      Linerless  Summer\n",
       "2  XXL     41      Pre-Owned     Pace Breaker Short          Lined  Summer\n",
       "3    L     48      Pre-Owned            Surge Short          Lined  Summer\n",
       "4    M     32      Pre-Owned  Metal Vent Tech Shirt   Short Sleeve  Summer"
      ]
     },
     "execution_count": 48,
     "metadata": {},
     "output_type": "execute_result"
    }
   ],
   "source": [
    "print(df.shape)\n",
    "df.head()"
   ]
  }
 ],
 "metadata": {
  "kernelspec": {
   "display_name": "Python 3",
   "language": "python",
   "name": "python3"
  },
  "language_info": {
   "codemirror_mode": {
    "name": "ipython",
    "version": 3
   },
   "file_extension": ".py",
   "mimetype": "text/x-python",
   "name": "python",
   "nbconvert_exporter": "python",
   "pygments_lexer": "ipython3",
   "version": "3.7.3"
  }
 },
 "nbformat": 4,
 "nbformat_minor": 4
}
